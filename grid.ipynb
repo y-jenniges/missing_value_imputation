{
 "cells": [
  {
   "cell_type": "code",
   "execution_count": 1,
   "id": "88d99422",
   "metadata": {},
   "outputs": [
    {
     "ename": "ModuleNotFoundError",
     "evalue": "No module named 'comfort_lib'",
     "output_type": "error",
     "traceback": [
      "\u001b[1;31m---------------------------------------------------------------------------\u001b[0m",
      "\u001b[1;31mModuleNotFoundError\u001b[0m                       Traceback (most recent call last)",
      "Cell \u001b[1;32mIn[1], line 2\u001b[0m\n\u001b[0;32m      1\u001b[0m \u001b[38;5;66;03m# import pandas as pd\u001b[39;00m\n\u001b[1;32m----> 2\u001b[0m \u001b[38;5;28;01mfrom\u001b[39;00m \u001b[38;5;21;01mcomfort_lib\u001b[39;00m\u001b[38;5;21;01m.\u001b[39;00m\u001b[38;5;21;01msrc\u001b[39;00m\u001b[38;5;21;01m.\u001b[39;00m\u001b[38;5;21;01mdatabase\u001b[39;00m\u001b[38;5;21;01m.\u001b[39;00m\u001b[38;5;21;01mcommunication\u001b[39;00m \u001b[38;5;28;01mimport\u001b[39;00m create_connection\n\u001b[0;32m      3\u001b[0m \u001b[38;5;28;01mfrom\u001b[39;00m \u001b[38;5;21;01mcomfort_lib\u001b[39;00m\u001b[38;5;21;01m.\u001b[39;00m\u001b[38;5;21;01msrc\u001b[39;00m\u001b[38;5;21;01m.\u001b[39;00m\u001b[38;5;21;01mpreprocessing\u001b[39;00m\u001b[38;5;21;01m.\u001b[39;00m\u001b[38;5;21;01mgridding\u001b[39;00m \u001b[38;5;28;01mimport\u001b[39;00m GridManager, create_wide_table_online, load_wide_table, get_missing_value_info_offline\n",
      "\u001b[1;31mModuleNotFoundError\u001b[0m: No module named 'comfort_lib'"
     ]
    }
   ],
   "source": [
    "# import pandas as pd\n",
    "from comfort_lib.src.database.communication import create_connection\n",
    "from comfort_lib.src.preprocessing.gridding import GridManager, create_wide_table_online, load_wide_table, get_missing_value_info_offline"
   ]
  },
  {
   "cell_type": "code",
   "execution_count": 10,
   "id": "27633fe5",
   "metadata": {},
   "outputs": [],
   "source": [
    "import pandas as pd\n",
    "import numpy as np\n",
    "import sqlite3"
   ]
  },
  {
   "cell_type": "code",
   "execution_count": null,
   "id": "bab1f1dc",
   "metadata": {},
   "outputs": [],
   "source": []
  },
  {
   "cell_type": "code",
   "execution_count": null,
   "id": "e2f0c1f5",
   "metadata": {},
   "outputs": [],
   "source": []
  },
  {
   "cell_type": "code",
   "execution_count": 4,
   "id": "11292fae",
   "metadata": {},
   "outputs": [],
   "source": [
    "output_path = \"output/imputation/grid_description/\""
   ]
  },
  {
   "cell_type": "code",
   "execution_count": 5,
   "id": "bb1a6ecc",
   "metadata": {},
   "outputs": [],
   "source": [
    "# plotting utilities\n",
    "map_column_label = {\"P_TEMPERATURE\": \"Temperature\", \"P_SALINITY\": \"Salinity\", \"P_PHOSPHATE\": \"Phosphate\", \"P_OXYGEN\": \"Oxygen\", \n",
    "                   \"P_NITRATE\": \"Nitrate\", \"P_SILICATE\": \"Silicate\", \"LATITUDE\": \"Latitude\", \"LONGITUDE\": \"Longitude\", \n",
    "                    \"LEV_M\": \"Depth\"}\n",
    "map_column_unit = {\"P_TEMPERATURE\": \"°C\", \"P_SALINITY\": \"psu\", \"P_OXYGEN\": \"µmol/kg\", \"P_PHOSPHATE\": \"µmol/kg\", \n",
    "                   \"P_NITRATE\": \"µmol/kg\", \"P_SILICATE\": \"µmol/kg\", \"LATITUDE\": \"\", \"LONGITUDE\": \"\", \n",
    "                    \"LEV_M\": \"m\"}"
   ]
  },
  {
   "cell_type": "code",
   "execution_count": 15,
   "id": "4c0874ad-b8fe-43df-87ae-af3566395fd9",
   "metadata": {},
   "outputs": [],
   "source": [
    "# grid configuration\n",
    "depth_levels = [0, 50, 100, 200, 300, 400, 500, 1000, 1500, 2000, 3000, 4000, 5000]\n",
    "grid_config = {\"param_tables\": [\"P_TEMPERATURE\", \"P_SALINITY\", \"P_OXYGEN\", \"P_NITRATE\", \"P_SILICATE\", \"P_PHOSPHATE\"],\n",
    "               \"lat_min\": 0,\n",
    "               \"lat_max\": 70,\n",
    "               \"dlat\": 1,\n",
    "               \"lon_min\": -77,\n",
    "               \"lon_max\": 30,\n",
    "               \"dlon\": 1,\n",
    "               \"z_min\": None,\n",
    "               \"z_max\": None,\n",
    "               \"dz\": None,\n",
    "               \"z_array\": np.array(depth_levels),\n",
    "               \"time_min\": \"1772-01-01 00:00:00\",\n",
    "               \"time_max\": \"2020-07-08 04:45:00\",\n",
    "               \"mode\": \"Y\",\n",
    "               \"selection\": None,\n",
    "               \"dtime\": 300,\n",
    "               \"note\": \"northern Atlantic, all times, larger depth steps, more params, exclude Pacific\"\n",
    "             }\n",
    "\n",
    "param_tables = grid_config[\"param_tables\"]\n",
    "lat_min = grid_config[\"lat_min\"]\n",
    "lat_max = grid_config[\"lat_max\"]\n",
    "dlat = grid_config[\"dlat\"]\n",
    "lon_min = grid_config[\"lon_min\"]\n",
    "lon_max = grid_config[\"lon_max\"]\n",
    "dlon = grid_config[\"dlon\"]\n",
    "z_min = grid_config[\"z_min\"]\n",
    "z_max = grid_config[\"z_max\"]\n",
    "dz = grid_config[\"dz\"]\n",
    "z_array = np.array(grid_config[\"z_array\"])\n",
    "time_min = grid_config[\"time_min\"]\n",
    "time_max = grid_config[\"time_max\"]\n",
    "mode = grid_config[\"mode\"]\n",
    "selection = grid_config[\"selection\"]\n",
    "dtime = grid_config[\"dtime\"]"
   ]
  },
  {
   "cell_type": "code",
   "execution_count": 12,
   "id": "ea40fa73-148b-4940-8c65-aba87378af52",
   "metadata": {},
   "outputs": [],
   "source": [
    "# database connection\n",
    "db_path = \"C:/users/yvjennig/pycharmprojects/data/6_comfort_potT.sqlite\"\n",
    "conn = sqlite3.connect(db_path)"
   ]
  },
  {
   "cell_type": "code",
   "execution_count": 13,
   "id": "5ab10ee4-f1bb-4e94-9f64-a2faeceb3769",
   "metadata": {},
   "outputs": [],
   "source": [
    "# define bathymetry parameters\n",
    "bathymetry_grid_path = \"../../data/bathymetry/gebco_2022_sub_ice_topo/gebco_2022_sub_ice_topo.nc\"\n",
    "lat_variable = \"lat\"\n",
    "lon_variable = \"lon\"\n",
    "depth_variable = \"elevation\""
   ]
  },
  {
   "cell_type": "code",
   "execution_count": null,
   "id": "367c9652-92b8-4270-8836-7f919497adc8",
   "metadata": {},
   "outputs": [],
   "source": []
  },
  {
   "cell_type": "markdown",
   "id": "a00fbced-ba9b-4969-9733-527d0db4b767",
   "metadata": {},
   "source": [
    "# Raw data exploration"
   ]
  },
  {
   "cell_type": "code",
   "execution_count": 16,
   "id": "00ca2527-1660-408f-a0b5-3bfebbac20cd",
   "metadata": {},
   "outputs": [],
   "source": [
    "include_z_max = True\n",
    "z_eq = \"<=\" if include_z_max else \"<\"\n",
    "z_min = min(z_array)\n",
    "z_max = max(z_array)\n",
    "\n",
    "def load_param_table(connection, table):\n",
    "    q = f\"select LATITUDE, LONGITUDE, LEV_M, DATEANDTIME, VAL \" \\\n",
    "    f\"from {table} where \" \\\n",
    "    f\"LATITUDE >= {lat_min} and LATITUDE <= {lat_max} and \" \\\n",
    "    f\"LONGITUDE >= {lon_min} and LONGITUDE <= {lon_max} and \" \\\n",
    "    f\"LEV_M >= {z_min} and LEV_M {z_eq} {z_max} and \" \\\n",
    "    f\"DATEANDTIME >= '{time_min}' and DATEANDTIME <= '{time_max}' \" \\\n",
    "    f\";\"\n",
    "    print(q)   \n",
    "    cur = connection.execute(q)\n",
    "    temp = pd.DataFrame(cur.fetchall(), columns=[x[0] for x in cur.description])\n",
    "    return temp"
   ]
  },
  {
   "cell_type": "code",
   "execution_count": 17,
   "id": "065b4fc6-f5ef-455e-9b78-20d86a1357e7",
   "metadata": {},
   "outputs": [
    {
     "name": "stdout",
     "output_type": "stream",
     "text": [
      "select LATITUDE, LONGITUDE, LEV_M, DATEANDTIME, VAL from P_NITRATE where LATITUDE >= 0 and LATITUDE <= 70 and LONGITUDE >= -77 and LONGITUDE <= 30 and LEV_M >= 0 and LEV_M <= 5000 and DATEANDTIME >= '1772-01-01 00:00:00' and DATEANDTIME <= '2020-07-08 04:45:00' ;\n",
      "select LATITUDE, LONGITUDE, LEV_M, DATEANDTIME, VAL from P_SILICATE where LATITUDE >= 0 and LATITUDE <= 70 and LONGITUDE >= -77 and LONGITUDE <= 30 and LEV_M >= 0 and LEV_M <= 5000 and DATEANDTIME >= '1772-01-01 00:00:00' and DATEANDTIME <= '2020-07-08 04:45:00' ;\n",
      "select LATITUDE, LONGITUDE, LEV_M, DATEANDTIME, VAL from P_PHOSPHATE where LATITUDE >= 0 and LATITUDE <= 70 and LONGITUDE >= -77 and LONGITUDE <= 30 and LEV_M >= 0 and LEV_M <= 5000 and DATEANDTIME >= '1772-01-01 00:00:00' and DATEANDTIME <= '2020-07-08 04:45:00' ;\n",
      "select LATITUDE, LONGITUDE, LEV_M, DATEANDTIME, VAL from P_TEMPERATURE where LATITUDE >= 0 and LATITUDE <= 70 and LONGITUDE >= -77 and LONGITUDE <= 30 and LEV_M >= 0 and LEV_M <= 5000 and DATEANDTIME >= '1772-01-01 00:00:00' and DATEANDTIME <= '2020-07-08 04:45:00' ;\n"
     ]
    },
    {
     "ename": "KeyboardInterrupt",
     "evalue": "",
     "output_type": "error",
     "traceback": [
      "\u001b[1;31m---------------------------------------------------------------------------\u001b[0m",
      "\u001b[1;31mKeyboardInterrupt\u001b[0m                         Traceback (most recent call last)",
      "Cell \u001b[1;32mIn[17], line 4\u001b[0m\n\u001b[0;32m      2\u001b[0m silicate \u001b[38;5;241m=\u001b[39m load_param_table(conn, \u001b[38;5;124m\"\u001b[39m\u001b[38;5;124mP_SILICATE\u001b[39m\u001b[38;5;124m\"\u001b[39m)\n\u001b[0;32m      3\u001b[0m phosphate \u001b[38;5;241m=\u001b[39m load_param_table(conn, \u001b[38;5;124m\"\u001b[39m\u001b[38;5;124mP_PHOSPHATE\u001b[39m\u001b[38;5;124m\"\u001b[39m)\n\u001b[1;32m----> 4\u001b[0m temperature \u001b[38;5;241m=\u001b[39m \u001b[43mload_param_table\u001b[49m\u001b[43m(\u001b[49m\u001b[43mconn\u001b[49m\u001b[43m,\u001b[49m\u001b[43m \u001b[49m\u001b[38;5;124;43m\"\u001b[39;49m\u001b[38;5;124;43mP_TEMPERATURE\u001b[39;49m\u001b[38;5;124;43m\"\u001b[39;49m\u001b[43m)\u001b[49m\n\u001b[0;32m      5\u001b[0m salinity \u001b[38;5;241m=\u001b[39m load_param_table(conn, \u001b[38;5;124m\"\u001b[39m\u001b[38;5;124mP_SALINITY\u001b[39m\u001b[38;5;124m\"\u001b[39m)\n\u001b[0;32m      6\u001b[0m oxygen \u001b[38;5;241m=\u001b[39m load_param_table(conn, \u001b[38;5;124m\"\u001b[39m\u001b[38;5;124mP_OXYGEN\u001b[39m\u001b[38;5;124m\"\u001b[39m)\n",
      "\u001b[1;31mKeyboardInterrupt\u001b[0m: "
     ]
    }
   ],
   "source": [
    "nitrate = load_param_table(conn, \"P_NITRATE\")\n",
    "silicate = load_param_table(conn, \"P_SILICATE\")\n",
    "phosphate = load_param_table(conn, \"P_PHOSPHATE\")\n",
    "temperature = load_param_table(conn, \"P_TEMPERATURE\")\n",
    "salinity = load_param_table(conn, \"P_SALINITY\")\n",
    "oxygen = load_param_table(conn, \"P_OXYGEN\")"
   ]
  },
  {
   "cell_type": "code",
   "execution_count": null,
   "id": "7e313596-a84f-4b0d-9fd5-f0ccf1836499",
   "metadata": {},
   "outputs": [],
   "source": []
  },
  {
   "cell_type": "code",
   "execution_count": null,
   "id": "5c92985c-bb3f-47ae-b935-15e938570bf8",
   "metadata": {},
   "outputs": [],
   "source": []
  },
  {
   "cell_type": "code",
   "execution_count": null,
   "id": "b83c54f2-22f6-47db-8106-e5a925f7a21c",
   "metadata": {},
   "outputs": [],
   "source": []
  },
  {
   "cell_type": "code",
   "execution_count": null,
   "id": "0b792ac6-8c1e-404d-b21a-8163eef2ed53",
   "metadata": {},
   "outputs": [],
   "source": []
  },
  {
   "cell_type": "markdown",
   "id": "735b758e",
   "metadata": {},
   "source": [
    "# Define the grid\n",
    "\n",
    "This requires the data from the sqlite database."
   ]
  },
  {
   "cell_type": "code",
   "execution_count": null,
   "id": "8a81e197",
   "metadata": {},
   "outputs": [],
   "source": []
  },
  {
   "cell_type": "code",
   "execution_count": null,
   "id": "6c44df6a",
   "metadata": {},
   "outputs": [],
   "source": []
  },
  {
   "cell_type": "code",
   "execution_count": null,
   "id": "6d47c719",
   "metadata": {},
   "outputs": [],
   "source": []
  },
  {
   "cell_type": "code",
   "execution_count": null,
   "id": "73a57379",
   "metadata": {},
   "outputs": [],
   "source": [
    "# apply gridding\n",
    "grid_manager = GridManager(db_path=db_path, grid_info_table=\"grid_info\")\n",
    "grid = grid_manager.create_grid(lat_min=lat_min, lat_max=lat_max, dlat=dlat,\n",
    "                                   lon_min=lon_min, lon_max=lon_max, dlon=dlon,\n",
    "                                   z_min=z_min, z_max=z_max, dz=dz, z_array=z_array,\n",
    "                                   time_min=time_min, time_max=time_max, dtime=dtime, mode=mode,\n",
    "                                   selection=selection,\n",
    "                                   bathymetry_grid_path=bathymetry_grid_path,\n",
    "                                   lat_variable=lat_variable, lon_variable=lon_variable,\n",
    "                                   depth_variable=depth_variable\n",
    "                                   )"
   ]
  },
  {
   "cell_type": "code",
   "execution_count": null,
   "id": "9332f06e",
   "metadata": {},
   "outputs": [],
   "source": [
    "# apply mapping and wide table creation\n",
    "mapped = grid.map_tables(connection=conn, param_tables=param_tables, using_database=True, include_z_max=True)\n",
    "wide_table_name = create_wide_table_online(connection=conn, grid_id=grid.grid_id, param_tables=param_tables)\n",
    "df_wide = load_wide_table(connection=conn, wide_table_name=wide_table_name, dropping_land_cells=True)\n",
    "num_nulls = get_missing_value_info_offline(df_wide)\n",
    "print(num_nulls)"
   ]
  },
  {
   "cell_type": "code",
   "execution_count": null,
   "id": "3a06e217",
   "metadata": {},
   "outputs": [],
   "source": [
    "print(wide_table_name)\n",
    "print(mapped)"
   ]
  },
  {
   "cell_type": "markdown",
   "id": "71db37c7",
   "metadata": {},
   "source": [
    "Salinity, temperature and oxygen have a good coverage with less than 10% missing values. The three nutrients contain more empty cells, the worst being nitrate with 35%. "
   ]
  },
  {
   "cell_type": "code",
   "execution_count": null,
   "id": "0b3e3bb2",
   "metadata": {},
   "outputs": [],
   "source": [
    "plot_missing_value_info(num_nulls, save_as=output_path + \"missing_value_proportion.png\")"
   ]
  },
  {
   "cell_type": "code",
   "execution_count": null,
   "id": "00ef94b0",
   "metadata": {},
   "outputs": [],
   "source": []
  },
  {
   "cell_type": "code",
   "execution_count": null,
   "id": "9b69a4de",
   "metadata": {},
   "outputs": [],
   "source": []
  }
 ],
 "metadata": {
  "kernelspec": {
   "display_name": "Python 3 (ipykernel)",
   "language": "python",
   "name": "python3"
  },
  "language_info": {
   "codemirror_mode": {
    "name": "ipython",
    "version": 3
   },
   "file_extension": ".py",
   "mimetype": "text/x-python",
   "name": "python",
   "nbconvert_exporter": "python",
   "pygments_lexer": "ipython3",
   "version": "3.10.12"
  }
 },
 "nbformat": 4,
 "nbformat_minor": 5
}
